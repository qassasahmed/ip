{
 "cells": [
  {
   "cell_type": "markdown",
   "metadata": {},
   "source": [
    "# Import Required Libraries"
   ]
  },
  {
   "cell_type": "code",
   "execution_count": null,
   "metadata": {
    "vscode": {
     "languageId": "plaintext"
    }
   },
   "outputs": [],
   "source": [
    "import cv2\n",
    "import numpy as np\n",
    "import matplotlib.pyplot as plt"
   ]
  },
  {
   "cell_type": "markdown",
   "metadata": {},
   "source": [
    "# Load the image"
   ]
  },
  {
   "cell_type": "code",
   "execution_count": null,
   "metadata": {
    "vscode": {
     "languageId": "plaintext"
    }
   },
   "outputs": [],
   "source": [
    "# Load the image\n",
    "gray = cv2.imread('sudoku.png', 0)"
   ]
  },
  {
   "cell_type": "markdown",
   "metadata": {},
   "source": [
    "- `cv2.imread('sudoku.png')`: Loads an image named sudoku.png from the working directory.  \n",
    "- `cv2.cvtColor(image, cv2.COLOR_BGR2GRAY)`: Converts the loaded image from the BGR color space (used by OpenCV) to grayscale. Grayscale conversion simplifies the image for further processing, like edge detection."
   ]
  },
  {
   "cell_type": "markdown",
   "metadata": {},
   "source": [
    "# Preprocessing (Canny Edge Detection)"
   ]
  },
  {
   "cell_type": "code",
   "execution_count": null,
   "metadata": {
    "vscode": {
     "languageId": "plaintext"
    }
   },
   "outputs": [],
   "source": [
    "edges = cv2.Canny(gray, 50, 150)"
   ]
  },
  {
   "cell_type": "markdown",
   "metadata": {},
   "source": [
    "- `gray`: The grayscale image (input for edge detection).  \n",
    "- `50, 150`: The lower and upper thresholds for edge detection. Gradients within this range are considered edges"
   ]
  },
  {
   "cell_type": "markdown",
   "metadata": {},
   "source": [
    "# Apply Hough Line Transform"
   ]
  },
  {
   "cell_type": "code",
   "execution_count": null,
   "metadata": {
    "vscode": {
     "languageId": "plaintext"
    }
   },
   "outputs": [],
   "source": [
    "lines = cv2.HoughLines(edges, 1, np.pi / 180, 200)"
   ]
  },
  {
   "cell_type": "markdown",
   "metadata": {},
   "source": [
    "1. **`edges`**:  \n",
    "   - **Type**: Input image (binary).  \n",
    "   - **Description**: The binary image resulting from edge detection (e.g., Canny).  \n",
    "   - Edge pixels are white (non-zero), and the background is black (zero).\n",
    "\n",
    "2. **`1` (rho resolution)**:  \n",
    "   - **Type**: `float`.  \n",
    "   - **Description**: The resolution of the accumulator in terms of the distance parameter $\\rho$ (in pixels).  \n",
    "   - A value of `1` means the distance resolution is 1 pixel.\n",
    "\n",
    "3. **`np.pi / 180` (theta resolution)**:  \n",
    "   - **Type**: `float`.  \n",
    "   - **Description**: The resolution of the accumulator in terms of the angle parameter $\\theta$ (in radians).  \n",
    "   - A value of `np.pi / 180` corresponds to 1 degree.\n",
    "\n",
    "4. **`200` (threshold)**:  \n",
    "   - **Type**: `int`.  \n",
    "   - **Description**: The threshold for the accumulator.  \n",
    "     - Only those $(\\rho, \\theta)$ values that have at least `200` votes in the accumulator are considered as detected lines.  \n",
    "     - Increasing this value reduces the number of detected lines (useful for noisy images).\n",
    "\n",
    "---\n",
    "\n",
    "## Output\n",
    "\n",
    "- **`lines`**:  \n",
    "   - **Type**: 2D array of shape `(N, 1, 2)`, where `N` is the number of detected lines.  \n",
    "   - **Description**: Each detected line is represented by the pair $(\\rho, \\theta)$:  \n",
    "     - $\\rho$: The perpendicular distance from the origin to the line.  \n",
    "     - $\\theta$: The angle of the line with respect to the x-axis, in radians.\n",
    "\n",
    "### Example Output:\n",
    "```python\n",
    "lines = [[[100, 1.5708]],\n",
    "         [[150, 0.7854]],\n",
    "         ...]\n",
    "```\n",
    "This represents two lines:\n",
    "- **Line 1**: $\\rho = 100 $, $\\theta = \\frac{\\pi}{2}$ (vertical line).\n",
    "- **Line 2**: $\\rho = 150$, $\\theta = \\frac{\\pi}{4}$ (diagonal line)."
   ]
  }
 ],
 "metadata": {
  "language_info": {
   "name": "python"
  }
 },
 "nbformat": 4,
 "nbformat_minor": 2
}
