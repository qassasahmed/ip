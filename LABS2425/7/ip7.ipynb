{
 "cells": [
  {
   "cell_type": "markdown",
   "metadata": {},
   "source": [
    "# Import Required Libraries"
   ]
  },
  {
   "cell_type": "code",
   "execution_count": 1,
   "metadata": {},
   "outputs": [],
   "source": [
    "import cv2\n",
    "import numpy as np\n",
    "import matplotlib.pyplot as plt"
   ]
  },
  {
   "cell_type": "markdown",
   "metadata": {},
   "source": [
    "# Load the image"
   ]
  },
  {
   "cell_type": "code",
   "execution_count": 2,
   "metadata": {},
   "outputs": [],
   "source": [
    "# Load the image\n",
    "gray = cv2.imread('sudoku.png', 0)"
   ]
  },
  {
   "cell_type": "markdown",
   "metadata": {},
   "source": [
    "- `cv2.imread('sudoku.png')`: Loads an image named sudoku.png from the working directory.  "
   ]
  },
  {
   "cell_type": "markdown",
   "metadata": {},
   "source": [
    "# Preprocessing (Canny Edge Detection)"
   ]
  },
  {
   "cell_type": "code",
   "execution_count": 3,
   "metadata": {},
   "outputs": [],
   "source": [
    "edges = cv2.Canny(gray, 50, 150)"
   ]
  },
  {
   "cell_type": "markdown",
   "metadata": {},
   "source": [
    "- `gray`: The grayscale image (input for edge detection).  \n",
    "- `50, 150`: The lower and upper thresholds for edge detection. Gradients within this range are considered edges"
   ]
  },
  {
   "cell_type": "markdown",
   "metadata": {},
   "source": [
    "# Apply Hough Line Transform"
   ]
  },
  {
   "cell_type": "code",
   "execution_count": 4,
   "metadata": {},
   "outputs": [],
   "source": [
    "lines = cv2.HoughLines(edges, 1, np.pi / 180, 200)"
   ]
  },
  {
   "cell_type": "markdown",
   "metadata": {},
   "source": [
    "1. **`edges`**:  \n",
    "   - **Type**: Input image (binary).  \n",
    "   - **Description**: The binary image resulting from edge detection (e.g., Canny).  \n",
    "   - Edge pixels are white (non-zero), and the background is black (zero).\n",
    "\n",
    "2. **`1` (rho resolution)**:  \n",
    "   - **Type**: `float`.  \n",
    "   - **Description**: The resolution of the accumulator in terms of the distance parameter $\\rho$ (in pixels).  \n",
    "   - A value of `1` means the distance resolution is 1 pixel.\n",
    "\n",
    "3. **`np.pi / 180` (theta resolution)**:  \n",
    "   - **Type**: `float`.  \n",
    "   - **Description**: The resolution of the accumulator in terms of the angle parameter $\\theta$ (in radians).  \n",
    "   - A value of `np.pi / 180` corresponds to 1 degree.\n",
    "\n",
    "4. **`200` (threshold)**:  \n",
    "   - **Type**: `int`.  \n",
    "   - **Description**: The threshold for the accumulator.  \n",
    "     - Only those $(\\rho, \\theta)$ values that have at least `200` votes in the accumulator are considered as detected lines.  \n",
    "     - Increasing this value reduces the number of detected lines (useful for noisy images)."
   ]
  },
  {
   "cell_type": "code",
   "execution_count": 5,
   "metadata": {},
   "outputs": [
    {
     "name": "stdout",
     "output_type": "stream",
     "text": [
      "lines=[[[361.          1.5707964]]\n",
      "\n",
      " [[357.          1.5707964]]\n",
      "\n",
      " [[304.          0.       ]]]\n"
     ]
    }
   ],
   "source": [
    "# print(lines.shape) #(27, 1, 2)\n",
    "print(f'lines={lines[0:3]}') "
   ]
  },
  {
   "cell_type": "markdown",
   "metadata": {},
   "source": [
    "## Output\n",
    "\n",
    "**`lines`**:  \n",
    "  - **Type**: 2D array of shape `(N, 1, 2)`, where `N` is the number of detected lines.  \n",
    "  - **Description**: Each detected line is represented by the pair $(\\rho, \\theta)$:  \n",
    "    - $\\rho$: The perpendicular distance from the origin to the line.  \n",
    "    - $\\theta$: The angle of the line with respect to the x-axis, in radians.  "
   ]
  },
  {
   "cell_type": "markdown",
   "metadata": {},
   "source": [
    "# Full Code"
   ]
  },
  {
   "cell_type": "code",
   "execution_count": null,
   "metadata": {},
   "outputs": [],
   "source": [
    "import math\n",
    "import cv2 as cv\n",
    "import numpy as np\n",
    "\n",
    "src = cv.imread('sudoku.png', cv.IMREAD_GRAYSCALE)\n",
    "\n",
    "dst = cv.Canny(src, 50, 200, None, 3)\n",
    "\n",
    "lines = cv.HoughLines(dst, 1, np.pi / 180, 150)\n",
    "\n",
    "# Plotting\n",
    "cdst = cv.cvtColor(dst, cv.COLOR_GRAY2BGR)\n",
    "\n",
    "if lines is not None:\n",
    "    for i in range(0, len(lines)):\n",
    "        rho = lines[i][0][0]\n",
    "        theta = lines[i][0][1]\n",
    "        a = math.cos(theta)\n",
    "        b = math.sin(theta)\n",
    "        x0 = a * rho\n",
    "        y0 = b * rho\n",
    "        pt1 = (int(x0 + 1000*(-b)), int(y0 + 1000*(a)))\n",
    "        pt2 = (int(x0 - 1000*(-b)), int(y0 - 1000*(a)))\n",
    "        cv.line(cdst, pt1, pt2, (0,0,255), 3, cv.LINE_AA)\n",
    "\n",
    "cv.imshow(\"Source\", src)\n",
    "cv.imshow(\"Detected Lines (in red) - Standard Hough Line Transform\", cdst)\n",
    "cv.waitKey()"
   ]
  },
  {
   "cell_type": "markdown",
   "metadata": {},
   "source": [
    "Read More [Hough Circle Transform](https://docs.opencv.org/3.4/d4/d70/tutorial_hough_circle.html)"
   ]
  }
 ],
 "metadata": {
  "kernelspec": {
   "display_name": "Python 3",
   "language": "python",
   "name": "python3"
  },
  "language_info": {
   "codemirror_mode": {
    "name": "ipython",
    "version": 3
   },
   "file_extension": ".py",
   "mimetype": "text/x-python",
   "name": "python",
   "nbconvert_exporter": "python",
   "pygments_lexer": "ipython3",
   "version": "3.13.1"
  }
 },
 "nbformat": 4,
 "nbformat_minor": 2
}
