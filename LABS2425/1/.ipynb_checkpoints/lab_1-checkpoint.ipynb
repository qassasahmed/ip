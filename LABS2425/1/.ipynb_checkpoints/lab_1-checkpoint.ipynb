{
 "cells": [
  {
   "cell_type": "markdown",
   "id": "43050bfc-cecb-4fab-9739-4e51225ce188",
   "metadata": {
    "editable": true,
    "slideshow": {
     "slide_type": ""
    },
    "tags": []
   },
   "source": [
    "# Image Processing Lab 1\n",
    "Dr. Amr Amin  \n",
    "Ahmed Alqssas  \n",
    "Autumn 2024-25  \n",
    "$f(X)$"
   ]
  },
  {
   "cell_type": "code",
   "execution_count": null,
   "id": "82813325-ee3b-4a47-92db-5dafa450da6d",
   "metadata": {},
   "outputs": [],
   "source": []
  }
 ],
 "metadata": {
  "kernelspec": {
   "display_name": "Python 3 (ipykernel)",
   "language": "python",
   "name": "python3"
  },
  "language_info": {
   "codemirror_mode": {
    "name": "ipython",
    "version": 3
   },
   "file_extension": ".py",
   "mimetype": "text/x-python",
   "name": "python",
   "nbconvert_exporter": "python",
   "pygments_lexer": "ipython3",
   "version": "3.12.4"
  }
 },
 "nbformat": 4,
 "nbformat_minor": 5
}
